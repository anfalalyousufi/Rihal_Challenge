{
 "cells": [
  {
   "cell_type": "code",
   "execution_count": null,
   "metadata": {},
   "outputs": [
    {
     "name": "stdout",
     "output_type": "stream",
     "text": [
      "showing info https://raw.githubusercontent.com/nltk/nltk_data/gh-pages/index.xml\n"
     ]
    }
   ],
   "source": [
    "import nltk\n",
    "nltk.download()#Download all the libraries which is included in nltk\n",
    "from nltk.tokenize import word_tokenize\n",
    "import pytesseract #module extract text from image\n"
   ]
  },
  {
   "cell_type": "code",
   "execution_count": null,
   "metadata": {},
   "outputs": [],
   "source": [
    "#wanda is use to convert pdf into image file.\n",
    "from wand.image import Image\n",
    "\n",
    "with(Image(filename=\"Rihal.pdf\", resolution=120)) as source: \n",
    "    images = source.sequence\n",
    "    pages = len(images)\n",
    "    for i in range(pages):\n",
    "        n = i + 1\n",
    "        newfilename =str(n) + '.jpeg'\n",
    "        Image(images[i]).save(filename=newfilename)"
   ]
  },
  {
   "cell_type": "code",
   "execution_count": null,
   "metadata": {},
   "outputs": [],
   "source": [
    "from PIL import Image, ImageEnhance, ImageFilter\n",
    "text = pytesseract.image_to_string(Image.open(newfilename))\n",
    "print(text)"
   ]
  },
  {
   "cell_type": "code",
   "execution_count": null,
   "metadata": {},
   "outputs": [],
   "source": [
    "#Converting all the text into tokens by perticular words.\n",
    "#It stores all the tokens into a single list.\n",
    "\n",
    "words=[]\n",
    "tokens = word_tokenize(text)\n",
    "for sent in tokens:\n",
    "    words=words+nltk.pos_tag(word_tokenize(sent))\n",
    "print(words)"
   ]
  },
  {
   "cell_type": "code",
   "execution_count": null,
   "metadata": {},
   "outputs": [],
   "source": [
    "# for extracting your perticular data.\n",
    "p=[\"Father's\",\"Mother's\",\"'s\",\"s\",\"Father\",\"Mother\",\"father\",\"mother\",\"s\"]\n",
    "name=\"\"\n",
    "father=\"\"\n",
    "mother=\"\"\n",
    "for i in range(len(words)):\n",
    "    \n",
    "    if (\"N\" == words[i][0] and words[i+1][0]==\"Name\" and words[i+2][0]==\":\" and words[i-1][0] not in p):\n",
    "        for j in range(3,6):\n",
    "            if (words[i+j][1]=='NN' or words[i+j][1]=='NNP'):\n",
    "                if(words[i+j][0] not in p):\n",
    "                    name=name+words[i+j][0]+\" \"\n",
    "    \n",
    "    if (words[i][0]==\"Name\" and words[i+1][0]==\":\" and words[i-1][0] not in p):\n",
    "        for j in range(2,5):\n",
    "            if (words[i+j][1]=='NN' or words[i+j][1]=='NNP'):\n",
    "                if(words[i+j][0] not in p):\n",
    "                    name=name+words[i+j][0]+\" \"\n",
    "    \n",
    "    if (\"Father\" == words[i][0] and words[i+1][0]==\"'s\" and words[i+2][0]==\"Name\" and words[i+3][0]==\":\" and words[i-1][0] not in p):\n",
    "        for j in range(4,7):\n",
    "            if (words[i+j][1]=='NN' or words[i+j][1]=='NNP'):\n",
    "                if(words[i+j][0] not in p):\n",
    "                    father=father+words[i+j][0]+\" \"\n",
    "    if (\"Mother\" == words[i][0] and words[i+1][0]==\"'s\" and words[i+2][0]==\"Name\" and words[i+3][0]==\":\" and words[i-1][0] not in p):\n",
    "        for j in range(4,6):\n",
    "            if (words[i+j][1]=='NN' or words[i+j][1]=='NNP'):\n",
    "                if(words[i+j][0] not in p):\n",
    "                    mother=mother+words[i+j][0]+\" \"\n",
    "\n",
    "print(\"Name = \",name)\n",
    "print(\"Father = \",father)\n",
    "print(\"Mother = \",mother)"
   ]
  },
  {
   "cell_type": "code",
   "execution_count": null,
   "metadata": {},
   "outputs": [],
   "source": []
  },
  {
   "cell_type": "code",
   "execution_count": null,
   "metadata": {},
   "outputs": [],
   "source": [
    "import PyPDF2\n",
    "pdfFileObject = open('C://Users//Anfal//Desktop//Rihal.pdf', 'rb')\n",
    "\n",
    "pdfReader = PyPDF2.PdfFileReader(pdfFileObject)\n",
    "count = pdfReader.numPages\n",
    "for i in range(count):\n",
    "    page = pdfReader.getPage(i)\n",
    "    print(page.extractText())"
   ]
  },
  {
   "cell_type": "code",
   "execution_count": null,
   "metadata": {},
   "outputs": [],
   "source": []
  },
  {
   "cell_type": "code",
   "execution_count": null,
   "metadata": {},
   "outputs": [],
   "source": []
  },
  {
   "cell_type": "code",
   "execution_count": null,
   "metadata": {},
   "outputs": [],
   "source": [
    "# import packages\n",
    "import PyPDF2\n",
    "import re\n",
    "\n",
    "# open the pdf file\n",
    "object = PyPDF2.PdfFileReader(\"test.pdf\")\n",
    "\n",
    "# get number of pages\n",
    "NumPages = object.getNumPages()\n",
    "\n",
    "# define keyterms\n",
    "String = \"cats\"\n",
    "\n",
    "# extract text and do the search\n",
    "for i in range(0, NumPages):\n",
    "    PageObj = object.getPage(i)\n",
    "    print(\"this is page \" + str(i)) \n",
    "    Text = PageObj.extractText() \n",
    "    # print(Text)\n",
    "    ResSearch = re.search(String, Text)\n",
    "    print(ResSearch)"
   ]
  },
  {
   "cell_type": "code",
   "execution_count": null,
   "metadata": {},
   "outputs": [],
   "source": []
  },
  {
   "cell_type": "code",
   "execution_count": null,
   "metadata": {},
   "outputs": [],
   "source": []
  },
  {
   "cell_type": "code",
   "execution_count": null,
   "metadata": {},
   "outputs": [],
   "source": []
  },
  {
   "cell_type": "code",
   "execution_count": null,
   "metadata": {},
   "outputs": [],
   "source": []
  },
  {
   "cell_type": "code",
   "execution_count": null,
   "metadata": {},
   "outputs": [],
   "source": []
  }
 ],
 "metadata": {
  "kernelspec": {
   "display_name": "Python 3",
   "language": "python",
   "name": "python3"
  },
  "language_info": {
   "codemirror_mode": {
    "name": "ipython",
    "version": 3
   },
   "file_extension": ".py",
   "mimetype": "text/x-python",
   "name": "python",
   "nbconvert_exporter": "python",
   "pygments_lexer": "ipython3",
   "version": "3.7.3"
  }
 },
 "nbformat": 4,
 "nbformat_minor": 2
}
